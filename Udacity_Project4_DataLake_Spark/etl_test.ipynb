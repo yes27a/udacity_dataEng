{
 "cells": [
  {
   "cell_type": "code",
   "execution_count": 1,
   "metadata": {},
   "outputs": [],
   "source": [
    "import configparser\n",
    "from datetime import datetime\n",
    "import os\n",
    "from pyspark.sql import SparkSession\n",
    "from pyspark.sql.functions import udf, col,row_number\n",
    "from pyspark.sql.functions import year, month, dayofmonth, hour, weekofyear, date_format"
   ]
  },
  {
   "cell_type": "code",
   "execution_count": 2,
   "metadata": {},
   "outputs": [],
   "source": [
    "config = configparser.ConfigParser()\n",
    "config.read('dl.cfg')\n",
    "\n",
    "os.environ['AWS_ACCESS_KEY_ID']=config['AWS']['AWS_ACCESS_KEY_ID']\n",
    "os.environ['AWS_SECRET_ACCESS_KEY']=config['AWS']['AWS_SECRET_ACCESS_KEY']\n",
    "input_data = \"s3a://udacity-dend/\"\n",
    "output_data = \"\""
   ]
  },
  {
   "cell_type": "code",
   "execution_count": 3,
   "metadata": {},
   "outputs": [],
   "source": [
    "\n",
    "spark = SparkSession \\\n",
    "        .builder \\\n",
    "        .config(\"spark.jars.packages\", \"org.apache.hadoop:hadoop-aws:2.7.0\") \\\n",
    "        .getOrCreate()\n"
   ]
  },
  {
   "cell_type": "code",
   "execution_count": 40,
   "metadata": {},
   "outputs": [
    {
     "name": "stdout",
     "output_type": "stream",
     "text": [
      "root\n",
      " |-- artist_id: string (nullable = true)\n",
      " |-- artist_latitude: double (nullable = true)\n",
      " |-- artist_location: string (nullable = true)\n",
      " |-- artist_longitude: double (nullable = true)\n",
      " |-- artist_name: string (nullable = true)\n",
      " |-- duration: double (nullable = true)\n",
      " |-- num_songs: long (nullable = true)\n",
      " |-- song_id: string (nullable = true)\n",
      " |-- title: string (nullable = true)\n",
      " |-- year: long (nullable = true)\n",
      "\n",
      "+------------------+---------------+--------------------+----------------+--------------------+----------+---------+------------------+--------------------+----+\n",
      "|         artist_id|artist_latitude|     artist_location|artist_longitude|         artist_name|  duration|num_songs|           song_id|               title|year|\n",
      "+------------------+---------------+--------------------+----------------+--------------------+----------+---------+------------------+--------------------+----+\n",
      "|ARSUVLW12454A4C8B8|       35.83073|           Tennessee|       -85.97874|Royal Philharmoni...|  94.56281|        1|SOBTCUI12A8AE48B70|Faust: Ballet Mus...|   0|\n",
      "|ARXQC081187FB4AD42|       54.31407|                  UK|        -2.23001|William Shatner_ ...|1047.71873|        1|SOXRPUH12AB017F769|Exodus: Part I: M...|   0|\n",
      "|ARWUNH81187FB4A3E0|           null|     Miami , Florida|            null|         Trick Daddy| 227.10812|        1|SOVNKJI12A8C13CB0D|Take It To Da Hou...|2001|\n",
      "|ARTC1LV1187B9A4858|        51.4536|Goldsmith's Colle...|        -0.01802|  The Bonzo Dog Band| 301.40036|        1|SOAFBCP12A8C13CC7D|King Of Scurf (20...|1972|\n",
      "|ARA23XO1187B9AF18F|       40.57885|Carteret, New Jersey|       -74.21956|     The Smithereens|   192.522|        1|SOKTJDS12AF72A25E5|Drown In My Own T...|   0|\n",
      "+------------------+---------------+--------------------+----------------+--------------------+----------+---------+------------------+--------------------+----+\n",
      "only showing top 5 rows\n",
      "\n",
      "CPU times: user 8.2 ms, sys: 15.6 ms, total: 23.8 ms\n",
      "Wall time: 3min 34s\n"
     ]
    }
   ],
   "source": [
    "%%time\n",
    "# get filepath to song data file\n",
    "#song_data_path = input_data + 'song_data/*/*/*/*.json'\n",
    "song_data_path = input_data + 'song_data/A/A/*/*.json'\n",
    "\n",
    "# read song data file\n",
    "song_data = spark.read.json(song_data_path)\n",
    "song_data.printSchema()\n",
    "song_data.show(5)"
   ]
  },
  {
   "cell_type": "code",
   "execution_count": 41,
   "metadata": {},
   "outputs": [
    {
     "name": "stdout",
     "output_type": "stream",
     "text": [
      "+------------------+--------------------+------------------+----+----------+\n",
      "|           song_id|               title|         artist_id|year|  duration|\n",
      "+------------------+--------------------+------------------+----+----------+\n",
      "|SOBTCUI12A8AE48B70|Faust: Ballet Mus...|ARSUVLW12454A4C8B8|   0|  94.56281|\n",
      "|SOXRPUH12AB017F769|Exodus: Part I: M...|ARXQC081187FB4AD42|   0|1047.71873|\n",
      "|SOVNKJI12A8C13CB0D|Take It To Da Hou...|ARWUNH81187FB4A3E0|2001| 227.10812|\n",
      "|SOAFBCP12A8C13CC7D|King Of Scurf (20...|ARTC1LV1187B9A4858|1972| 301.40036|\n",
      "|SOKTJDS12AF72A25E5|Drown In My Own T...|ARA23XO1187B9AF18F|   0|   192.522|\n",
      "+------------------+--------------------+------------------+----+----------+\n",
      "only showing top 5 rows\n",
      "\n"
     ]
    }
   ],
   "source": [
    "# extract columns to create songs table\n",
    "songs_table = song_data.select('song_id','title','artist_id','year','duration')\n",
    "songs_table.show(5)"
   ]
  },
  {
   "cell_type": "code",
   "execution_count": 42,
   "metadata": {},
   "outputs": [],
   "source": [
    "# remove dupliated rows\n",
    "songs_table = songs_table.dropDuplicates(['song_id'])"
   ]
  },
  {
   "cell_type": "code",
   "execution_count": 17,
   "metadata": {},
   "outputs": [],
   "source": [
    "dest_s3_path='s3a://myudacity/project_dataLake/'"
   ]
  },
  {
   "cell_type": "code",
   "execution_count": 43,
   "metadata": {},
   "outputs": [],
   "source": [
    "# write songs table to parquet files partitioned by year and artist\n",
    "#songs_table.write.parquet('songs2.parquet')\n",
    "songs_table.write.partitionBy('year','artist_id').parquet('songs2.parquet')"
   ]
  },
  {
   "cell_type": "code",
   "execution_count": null,
   "metadata": {},
   "outputs": [],
   "source": [
    "songs_table2 = spark.read.parquet(dest_s3_path+'songs.parquet')\n",
    "songs_table2.printSchema()"
   ]
  },
  {
   "cell_type": "code",
   "execution_count": 44,
   "metadata": {},
   "outputs": [
    {
     "name": "stdout",
     "output_type": "stream",
     "text": [
      "+------------------+--------------------+--------------------+---------------+----------------+\n",
      "|         artist_id|         artist_name|     artist_location|artist_latitude|artist_longitude|\n",
      "+------------------+--------------------+--------------------+---------------+----------------+\n",
      "|ARSUVLW12454A4C8B8|Royal Philharmoni...|           Tennessee|       35.83073|       -85.97874|\n",
      "|ARXQC081187FB4AD42|William Shatner_ ...|                  UK|       54.31407|        -2.23001|\n",
      "|ARWUNH81187FB4A3E0|         Trick Daddy|     Miami , Florida|           null|            null|\n",
      "|ARTC1LV1187B9A4858|  The Bonzo Dog Band|Goldsmith's Colle...|        51.4536|        -0.01802|\n",
      "|ARA23XO1187B9AF18F|     The Smithereens|Carteret, New Jersey|       40.57885|       -74.21956|\n",
      "+------------------+--------------------+--------------------+---------------+----------------+\n",
      "only showing top 5 rows\n",
      "\n"
     ]
    }
   ],
   "source": [
    "# extract columns to create artists table\n",
    "artists_table = song_data.select('artist_id','artist_name','artist_location','artist_latitude','artist_longitude')\n",
    "artists_table.show(5)"
   ]
  },
  {
   "cell_type": "code",
   "execution_count": null,
   "metadata": {},
   "outputs": [],
   "source": [
    "artists_table.dropDuplicates(['artist_id']).count()"
   ]
  },
  {
   "cell_type": "code",
   "execution_count": 45,
   "metadata": {},
   "outputs": [],
   "source": [
    "artists_table = artists_table.dropDuplicates(['artist_id'])"
   ]
  },
  {
   "cell_type": "code",
   "execution_count": 46,
   "metadata": {},
   "outputs": [],
   "source": [
    "# write artists table to parquet files\n",
    "artists_table.write.parquet('artists2.parquet')"
   ]
  },
  {
   "cell_type": "code",
   "execution_count": 20,
   "metadata": {},
   "outputs": [
    {
     "name": "stdout",
     "output_type": "stream",
     "text": [
      "root\n",
      " |-- artist: string (nullable = true)\n",
      " |-- auth: string (nullable = true)\n",
      " |-- firstName: string (nullable = true)\n",
      " |-- gender: string (nullable = true)\n",
      " |-- itemInSession: long (nullable = true)\n",
      " |-- lastName: string (nullable = true)\n",
      " |-- length: double (nullable = true)\n",
      " |-- level: string (nullable = true)\n",
      " |-- location: string (nullable = true)\n",
      " |-- method: string (nullable = true)\n",
      " |-- page: string (nullable = true)\n",
      " |-- registration: double (nullable = true)\n",
      " |-- sessionId: long (nullable = true)\n",
      " |-- song: string (nullable = true)\n",
      " |-- status: long (nullable = true)\n",
      " |-- ts: long (nullable = true)\n",
      " |-- userAgent: string (nullable = true)\n",
      " |-- userId: string (nullable = true)\n",
      "\n",
      "+-----------+---------+---------+------+-------------+--------+---------+-----+--------------------+------+--------+-----------------+---------+---------------+------+-------------+--------------------+------+\n",
      "|     artist|     auth|firstName|gender|itemInSession|lastName|   length|level|            location|method|    page|     registration|sessionId|           song|status|           ts|           userAgent|userId|\n",
      "+-----------+---------+---------+------+-------------+--------+---------+-----+--------------------+------+--------+-----------------+---------+---------------+------+-------------+--------------------+------+\n",
      "|   Harmonia|Logged In|     Ryan|     M|            0|   Smith|655.77751| free|San Jose-Sunnyval...|   PUT|NextSong|1.541016707796E12|      583|  Sehr kosmisch|   200|1542241826796|\"Mozilla/5.0 (X11...|    26|\n",
      "|The Prodigy|Logged In|     Ryan|     M|            1|   Smith|260.07465| free|San Jose-Sunnyval...|   PUT|NextSong|1.541016707796E12|      583|The Big Gundown|   200|1542242481796|\"Mozilla/5.0 (X11...|    26|\n",
      "|      Train|Logged In|     Ryan|     M|            2|   Smith|205.45261| free|San Jose-Sunnyval...|   PUT|NextSong|1.541016707796E12|      583|       Marry Me|   200|1542242741796|\"Mozilla/5.0 (X11...|    26|\n",
      "|       null|Logged In|    Wyatt|     M|            0|   Scott|     null| free|Eureka-Arcata-For...|   GET|    Home|1.540872073796E12|      563|           null|   200|1542247071796|Mozilla/5.0 (Wind...|     9|\n",
      "|       null|Logged In|   Austin|     M|            0| Rosales|     null| free|New York-Newark-J...|   GET|    Home|1.541059521796E12|      521|           null|   200|1542252577796|Mozilla/5.0 (Wind...|    12|\n",
      "+-----------+---------+---------+------+-------------+--------+---------+-----+--------------------+------+--------+-----------------+---------+---------------+------+-------------+--------------------+------+\n",
      "only showing top 5 rows\n",
      "\n",
      "CPU times: user 8.86 ms, sys: 145 µs, total: 9 ms\n",
      "Wall time: 13.4 s\n"
     ]
    }
   ],
   "source": [
    "%%time\n",
    "# get filepath to log data file\n",
    "log_data_path = input_data + 'log_data/*/*/*.json'\n",
    "#log_data_path = input_data + 'log_data/2018/11/*.json'\n",
    "\n",
    "# read log data file\n",
    "log_data = spark.read.json(log_data_path)\n",
    "log_data.printSchema()\n",
    "log_data.show(5)"
   ]
  },
  {
   "cell_type": "code",
   "execution_count": null,
   "metadata": {},
   "outputs": [],
   "source": [
    "# filter by actions for song plays\n",
    "df = log_data.select('page')\n",
    "df.distinct().show()\n",
    "df.groupBy('page')"
   ]
  },
  {
   "cell_type": "code",
   "execution_count": 49,
   "metadata": {},
   "outputs": [],
   "source": [
    "# extract columns for users table    \n",
    "users_table = log_data.select('userId','firstName','lastName','gender','level').dropDuplicates(['userId'])"
   ]
  },
  {
   "cell_type": "code",
   "execution_count": null,
   "metadata": {},
   "outputs": [],
   "source": [
    "users_table.count()"
   ]
  },
  {
   "cell_type": "code",
   "execution_count": 50,
   "metadata": {},
   "outputs": [],
   "source": [
    "# write users table to parquet files\n",
    "users_table.write.parquet('users2.parquet')"
   ]
  },
  {
   "cell_type": "code",
   "execution_count": 24,
   "metadata": {},
   "outputs": [
    {
     "data": {
      "text/html": [
       "<div>\n",
       "<style scoped>\n",
       "    .dataframe tbody tr th:only-of-type {\n",
       "        vertical-align: middle;\n",
       "    }\n",
       "\n",
       "    .dataframe tbody tr th {\n",
       "        vertical-align: top;\n",
       "    }\n",
       "\n",
       "    .dataframe thead th {\n",
       "        text-align: right;\n",
       "    }\n",
       "</style>\n",
       "<table border=\"1\" class=\"dataframe\">\n",
       "  <thead>\n",
       "    <tr style=\"text-align: right;\">\n",
       "      <th></th>\n",
       "      <th>timestamp</th>\n",
       "    </tr>\n",
       "  </thead>\n",
       "  <tbody>\n",
       "    <tr>\n",
       "      <th>0</th>\n",
       "      <td>2018-11-15 00:30:26.796</td>\n",
       "    </tr>\n",
       "    <tr>\n",
       "      <th>1</th>\n",
       "      <td>2018-11-15 00:41:21.796</td>\n",
       "    </tr>\n",
       "    <tr>\n",
       "      <th>2</th>\n",
       "      <td>2018-11-15 00:45:41.796</td>\n",
       "    </tr>\n",
       "    <tr>\n",
       "      <th>3</th>\n",
       "      <td>2018-11-15 01:57:51.796</td>\n",
       "    </tr>\n",
       "    <tr>\n",
       "      <th>4</th>\n",
       "      <td>2018-11-15 03:29:37.796</td>\n",
       "    </tr>\n",
       "    <tr>\n",
       "      <th>5</th>\n",
       "      <td>2018-11-15 03:44:09.796</td>\n",
       "    </tr>\n",
       "    <tr>\n",
       "      <th>6</th>\n",
       "      <td>2018-11-15 03:44:20.796</td>\n",
       "    </tr>\n",
       "    <tr>\n",
       "      <th>7</th>\n",
       "      <td>2018-11-15 05:34:34.796</td>\n",
       "    </tr>\n",
       "    <tr>\n",
       "      <th>8</th>\n",
       "      <td>2018-11-15 05:37:57.796</td>\n",
       "    </tr>\n",
       "    <tr>\n",
       "      <th>9</th>\n",
       "      <td>2018-11-15 05:48:55.796</td>\n",
       "    </tr>\n",
       "  </tbody>\n",
       "</table>\n",
       "</div>"
      ],
      "text/plain": [
       "                timestamp\n",
       "0 2018-11-15 00:30:26.796\n",
       "1 2018-11-15 00:41:21.796\n",
       "2 2018-11-15 00:45:41.796\n",
       "3 2018-11-15 01:57:51.796\n",
       "4 2018-11-15 03:29:37.796\n",
       "5 2018-11-15 03:44:09.796\n",
       "6 2018-11-15 03:44:20.796\n",
       "7 2018-11-15 05:34:34.796\n",
       "8 2018-11-15 05:37:57.796\n",
       "9 2018-11-15 05:48:55.796"
      ]
     },
     "execution_count": 24,
     "metadata": {},
     "output_type": "execute_result"
    }
   ],
   "source": [
    "from pyspark.sql.types import TimestampType\n",
    "\n",
    "# create timestamp column from original timestamp column\n",
    "get_timestamp = udf(lambda x: datetime.fromtimestamp(x/1000), TimestampType())\n",
    "df2 = log_data.withColumn('timestamp',get_timestamp('ts'))\n",
    "df2.select('timestamp').limit(10).toPandas()"
   ]
  },
  {
   "cell_type": "code",
   "execution_count": 25,
   "metadata": {},
   "outputs": [
    {
     "data": {
      "text/html": [
       "<div>\n",
       "<style scoped>\n",
       "    .dataframe tbody tr th:only-of-type {\n",
       "        vertical-align: middle;\n",
       "    }\n",
       "\n",
       "    .dataframe tbody tr th {\n",
       "        vertical-align: top;\n",
       "    }\n",
       "\n",
       "    .dataframe thead th {\n",
       "        text-align: right;\n",
       "    }\n",
       "</style>\n",
       "<table border=\"1\" class=\"dataframe\">\n",
       "  <thead>\n",
       "    <tr style=\"text-align: right;\">\n",
       "      <th></th>\n",
       "      <th>ts_date</th>\n",
       "    </tr>\n",
       "  </thead>\n",
       "  <tbody>\n",
       "    <tr>\n",
       "      <th>0</th>\n",
       "      <td>2018-11-15</td>\n",
       "    </tr>\n",
       "    <tr>\n",
       "      <th>1</th>\n",
       "      <td>2018-11-15</td>\n",
       "    </tr>\n",
       "    <tr>\n",
       "      <th>2</th>\n",
       "      <td>2018-11-15</td>\n",
       "    </tr>\n",
       "    <tr>\n",
       "      <th>3</th>\n",
       "      <td>2018-11-15</td>\n",
       "    </tr>\n",
       "    <tr>\n",
       "      <th>4</th>\n",
       "      <td>2018-11-15</td>\n",
       "    </tr>\n",
       "    <tr>\n",
       "      <th>5</th>\n",
       "      <td>2018-11-15</td>\n",
       "    </tr>\n",
       "    <tr>\n",
       "      <th>6</th>\n",
       "      <td>2018-11-15</td>\n",
       "    </tr>\n",
       "    <tr>\n",
       "      <th>7</th>\n",
       "      <td>2018-11-15</td>\n",
       "    </tr>\n",
       "    <tr>\n",
       "      <th>8</th>\n",
       "      <td>2018-11-15</td>\n",
       "    </tr>\n",
       "    <tr>\n",
       "      <th>9</th>\n",
       "      <td>2018-11-15</td>\n",
       "    </tr>\n",
       "  </tbody>\n",
       "</table>\n",
       "</div>"
      ],
      "text/plain": [
       "      ts_date\n",
       "0  2018-11-15\n",
       "1  2018-11-15\n",
       "2  2018-11-15\n",
       "3  2018-11-15\n",
       "4  2018-11-15\n",
       "5  2018-11-15\n",
       "6  2018-11-15\n",
       "7  2018-11-15\n",
       "8  2018-11-15\n",
       "9  2018-11-15"
      ]
     },
     "execution_count": 25,
     "metadata": {},
     "output_type": "execute_result"
    }
   ],
   "source": [
    "from pyspark.sql.types import DateType\n",
    "\n",
    "# create datetime column from original timestamp column\n",
    "get_datetime = udf(lambda x: datetime.fromtimestamp(x/1000).date(), DateType())\n",
    "df2 = df2.withColumn('ts_date',get_datetime('ts'))\n",
    "df2.select('ts_date').limit(10).toPandas()"
   ]
  },
  {
   "cell_type": "code",
   "execution_count": null,
   "metadata": {},
   "outputs": [],
   "source": [
    "spark.udf.register(\"get_datetime\", get_datetime)"
   ]
  },
  {
   "cell_type": "code",
   "execution_count": 26,
   "metadata": {},
   "outputs": [
    {
     "data": {
      "text/html": [
       "<div>\n",
       "<style scoped>\n",
       "    .dataframe tbody tr th:only-of-type {\n",
       "        vertical-align: middle;\n",
       "    }\n",
       "\n",
       "    .dataframe tbody tr th {\n",
       "        vertical-align: top;\n",
       "    }\n",
       "\n",
       "    .dataframe thead th {\n",
       "        text-align: right;\n",
       "    }\n",
       "</style>\n",
       "<table border=\"1\" class=\"dataframe\">\n",
       "  <thead>\n",
       "    <tr style=\"text-align: right;\">\n",
       "      <th></th>\n",
       "      <th>start_time</th>\n",
       "      <th>month</th>\n",
       "      <th>year</th>\n",
       "      <th>day</th>\n",
       "      <th>hour</th>\n",
       "      <th>week</th>\n",
       "      <th>weekday</th>\n",
       "    </tr>\n",
       "  </thead>\n",
       "  <tbody>\n",
       "    <tr>\n",
       "      <th>0</th>\n",
       "      <td>2018-11-15 00:30:26.796</td>\n",
       "      <td>11</td>\n",
       "      <td>2018</td>\n",
       "      <td>15</td>\n",
       "      <td>0</td>\n",
       "      <td>46</td>\n",
       "      <td>4</td>\n",
       "    </tr>\n",
       "    <tr>\n",
       "      <th>1</th>\n",
       "      <td>2018-11-15 00:41:21.796</td>\n",
       "      <td>11</td>\n",
       "      <td>2018</td>\n",
       "      <td>15</td>\n",
       "      <td>0</td>\n",
       "      <td>46</td>\n",
       "      <td>4</td>\n",
       "    </tr>\n",
       "    <tr>\n",
       "      <th>2</th>\n",
       "      <td>2018-11-15 00:45:41.796</td>\n",
       "      <td>11</td>\n",
       "      <td>2018</td>\n",
       "      <td>15</td>\n",
       "      <td>0</td>\n",
       "      <td>46</td>\n",
       "      <td>4</td>\n",
       "    </tr>\n",
       "    <tr>\n",
       "      <th>3</th>\n",
       "      <td>2018-11-15 01:57:51.796</td>\n",
       "      <td>11</td>\n",
       "      <td>2018</td>\n",
       "      <td>15</td>\n",
       "      <td>1</td>\n",
       "      <td>46</td>\n",
       "      <td>4</td>\n",
       "    </tr>\n",
       "    <tr>\n",
       "      <th>4</th>\n",
       "      <td>2018-11-15 03:29:37.796</td>\n",
       "      <td>11</td>\n",
       "      <td>2018</td>\n",
       "      <td>15</td>\n",
       "      <td>3</td>\n",
       "      <td>46</td>\n",
       "      <td>4</td>\n",
       "    </tr>\n",
       "    <tr>\n",
       "      <th>5</th>\n",
       "      <td>2018-11-15 03:44:09.796</td>\n",
       "      <td>11</td>\n",
       "      <td>2018</td>\n",
       "      <td>15</td>\n",
       "      <td>3</td>\n",
       "      <td>46</td>\n",
       "      <td>4</td>\n",
       "    </tr>\n",
       "    <tr>\n",
       "      <th>6</th>\n",
       "      <td>2018-11-15 03:44:20.796</td>\n",
       "      <td>11</td>\n",
       "      <td>2018</td>\n",
       "      <td>15</td>\n",
       "      <td>3</td>\n",
       "      <td>46</td>\n",
       "      <td>4</td>\n",
       "    </tr>\n",
       "    <tr>\n",
       "      <th>7</th>\n",
       "      <td>2018-11-15 05:34:34.796</td>\n",
       "      <td>11</td>\n",
       "      <td>2018</td>\n",
       "      <td>15</td>\n",
       "      <td>5</td>\n",
       "      <td>46</td>\n",
       "      <td>4</td>\n",
       "    </tr>\n",
       "    <tr>\n",
       "      <th>8</th>\n",
       "      <td>2018-11-15 05:37:57.796</td>\n",
       "      <td>11</td>\n",
       "      <td>2018</td>\n",
       "      <td>15</td>\n",
       "      <td>5</td>\n",
       "      <td>46</td>\n",
       "      <td>4</td>\n",
       "    </tr>\n",
       "    <tr>\n",
       "      <th>9</th>\n",
       "      <td>2018-11-15 05:48:55.796</td>\n",
       "      <td>11</td>\n",
       "      <td>2018</td>\n",
       "      <td>15</td>\n",
       "      <td>5</td>\n",
       "      <td>46</td>\n",
       "      <td>4</td>\n",
       "    </tr>\n",
       "  </tbody>\n",
       "</table>\n",
       "</div>"
      ],
      "text/plain": [
       "               start_time  month  year  day  hour  week  weekday\n",
       "0 2018-11-15 00:30:26.796     11  2018   15     0    46        4\n",
       "1 2018-11-15 00:41:21.796     11  2018   15     0    46        4\n",
       "2 2018-11-15 00:45:41.796     11  2018   15     0    46        4\n",
       "3 2018-11-15 01:57:51.796     11  2018   15     1    46        4\n",
       "4 2018-11-15 03:29:37.796     11  2018   15     3    46        4\n",
       "5 2018-11-15 03:44:09.796     11  2018   15     3    46        4\n",
       "6 2018-11-15 03:44:20.796     11  2018   15     3    46        4\n",
       "7 2018-11-15 05:34:34.796     11  2018   15     5    46        4\n",
       "8 2018-11-15 05:37:57.796     11  2018   15     5    46        4\n",
       "9 2018-11-15 05:48:55.796     11  2018   15     5    46        4"
      ]
     },
     "execution_count": 26,
     "metadata": {},
     "output_type": "execute_result"
    }
   ],
   "source": [
    "# extract columns to create time table\n",
    "time_table = df2.select(col('timestamp').alias('start_time'),month('ts_date').alias('month'), year('ts_date').alias('year'),dayofmonth('ts_date').alias('day'),hour('timestamp').alias('hour'),weekofyear('ts_date').alias('week'), date_format('ts_date', 'u').cast('int').alias('weekday'))\n",
    "time_table.limit(10).toPandas()"
   ]
  },
  {
   "cell_type": "code",
   "execution_count": null,
   "metadata": {},
   "outputs": [],
   "source": [
    "time_table.count()"
   ]
  },
  {
   "cell_type": "code",
   "execution_count": 27,
   "metadata": {},
   "outputs": [],
   "source": [
    "time_table = time_table.dropDuplicates(['start_time'])"
   ]
  },
  {
   "cell_type": "code",
   "execution_count": 51,
   "metadata": {},
   "outputs": [],
   "source": [
    "# write time table to parquet files partitioned by year and month\n",
    "time_table.write.partitionBy('year','month').parquet('time2.parquet')"
   ]
  },
  {
   "cell_type": "code",
   "execution_count": 28,
   "metadata": {},
   "outputs": [],
   "source": [
    "time_table.createOrReplaceTempView('times')"
   ]
  },
  {
   "cell_type": "code",
   "execution_count": 47,
   "metadata": {},
   "outputs": [
    {
     "name": "stdout",
     "output_type": "stream",
     "text": [
      "+------------------+--------------------+---------+----+------------------+\n",
      "|           song_id|               title| duration|year|         artist_id|\n",
      "+------------------+--------------------+---------+----+------------------+\n",
      "|SOBTCUI12A8AE48B70|Faust: Ballet Mus...| 94.56281|   0|ARSUVLW12454A4C8B8|\n",
      "|SOVNKJI12A8C13CB0D|Take It To Da Hou...|227.10812|2001|ARWUNH81187FB4A3E0|\n",
      "|SOYVBGZ12A6D4F92A8|Piano Sonata No. ...|221.70077|   0|ARLRWBW1242077EB29|\n",
      "|SODBHKO12A58A77F36|Fingers Of Love (...|335.93424|   0|ARKGS2Z1187FB494B5|\n",
      "+------------------+--------------------+---------+----+------------------+\n",
      "only showing top 4 rows\n",
      "\n"
     ]
    }
   ],
   "source": [
    "# read in song data to use for songplays table\n",
    "song_df = spark.read.parquet('songs2.parquet')\n",
    "song_df.createOrReplaceTempView('songs')\n",
    "song_df.show(4)"
   ]
  },
  {
   "cell_type": "code",
   "execution_count": 48,
   "metadata": {},
   "outputs": [
    {
     "data": {
      "text/html": [
       "<div>\n",
       "<style scoped>\n",
       "    .dataframe tbody tr th:only-of-type {\n",
       "        vertical-align: middle;\n",
       "    }\n",
       "\n",
       "    .dataframe tbody tr th {\n",
       "        vertical-align: top;\n",
       "    }\n",
       "\n",
       "    .dataframe thead th {\n",
       "        text-align: right;\n",
       "    }\n",
       "</style>\n",
       "<table border=\"1\" class=\"dataframe\">\n",
       "  <thead>\n",
       "    <tr style=\"text-align: right;\">\n",
       "      <th></th>\n",
       "      <th>artist_id</th>\n",
       "      <th>artist_name</th>\n",
       "      <th>artist_location</th>\n",
       "      <th>artist_latitude</th>\n",
       "      <th>artist_longitude</th>\n",
       "    </tr>\n",
       "  </thead>\n",
       "  <tbody>\n",
       "    <tr>\n",
       "      <th>0</th>\n",
       "      <td>AR3WWZM1187B996646</td>\n",
       "      <td>Weeping Willows</td>\n",
       "      <td>Massachusetts</td>\n",
       "      <td>42.18419</td>\n",
       "      <td>-71.71818</td>\n",
       "    </tr>\n",
       "    <tr>\n",
       "      <th>1</th>\n",
       "      <td>AR8Y6HV1187FB5546D</td>\n",
       "      <td>Danny Byrd</td>\n",
       "      <td>UK</td>\n",
       "      <td>54.31407</td>\n",
       "      <td>-2.23001</td>\n",
       "    </tr>\n",
       "    <tr>\n",
       "      <th>2</th>\n",
       "      <td>ARBJQTM1187B9B862B</td>\n",
       "      <td>Cocteau Twins</td>\n",
       "      <td>Grangemouth, Scotland</td>\n",
       "      <td>56.01162</td>\n",
       "      <td>-3.71947</td>\n",
       "    </tr>\n",
       "    <tr>\n",
       "      <th>3</th>\n",
       "      <td>ARBM57Q1187B9AF97C</td>\n",
       "      <td>James Horner</td>\n",
       "      <td>Los Angeles, CA</td>\n",
       "      <td>34.05349</td>\n",
       "      <td>-118.24532</td>\n",
       "    </tr>\n",
       "  </tbody>\n",
       "</table>\n",
       "</div>"
      ],
      "text/plain": [
       "            artist_id      artist_name        artist_location  \\\n",
       "0  AR3WWZM1187B996646  Weeping Willows          Massachusetts   \n",
       "1  AR8Y6HV1187FB5546D       Danny Byrd                     UK   \n",
       "2  ARBJQTM1187B9B862B    Cocteau Twins  Grangemouth, Scotland   \n",
       "3  ARBM57Q1187B9AF97C     James Horner        Los Angeles, CA   \n",
       "\n",
       "   artist_latitude  artist_longitude  \n",
       "0         42.18419         -71.71818  \n",
       "1         54.31407          -2.23001  \n",
       "2         56.01162          -3.71947  \n",
       "3         34.05349        -118.24532  "
      ]
     },
     "execution_count": 48,
     "metadata": {},
     "output_type": "execute_result"
    }
   ],
   "source": [
    "artists_df = spark.read.parquet('artists2.parquet')\n",
    "artists_df.createOrReplaceTempView('artists')\n",
    "artists_df.limit(4).toPandas()"
   ]
  },
  {
   "cell_type": "code",
   "execution_count": null,
   "metadata": {},
   "outputs": [],
   "source": [
    "log_data.limit(4).toPandas()"
   ]
  },
  {
   "cell_type": "code",
   "execution_count": null,
   "metadata": {},
   "outputs": [],
   "source": [
    "song_df.printSchema()"
   ]
  },
  {
   "cell_type": "code",
   "execution_count": 33,
   "metadata": {},
   "outputs": [],
   "source": [
    "\n",
    "df2.createOrReplaceTempView('logs')"
   ]
  },
  {
   "cell_type": "code",
   "execution_count": 53,
   "metadata": {},
   "outputs": [
    {
     "name": "stdout",
     "output_type": "stream",
     "text": [
      "+--------------------+------+-----+---------+--------------------+--------------------+------------------+------------------+-----------------------------+\n",
      "|          start_time|userId|level|sessionid|            location|           useragent|           song_id|         artist_id|year(CAST(timestamp AS DATE))|\n",
      "+--------------------+------+-----+---------+--------------------+--------------------+------------------+------------------+-----------------------------+\n",
      "|2018-11-03 21:14:...|    49| free|      195|San Francisco-Oak...|Mozilla/5.0 (Wind...|SOFVOQL12A6D4F7456|ARPN0Y61187B9ABAA0|                         2018|\n",
      "|2018-11-08 15:01:...|    29| paid|      372|Atlanta-Sandy Spr...|\"Mozilla/5.0 (Mac...|SOFVOQL12A6D4F7456|ARPN0Y61187B9ABAA0|                         2018|\n",
      "|2018-11-16 14:21:...|    85| paid|      436|       Red Bluff, CA|\"Mozilla/5.0 (Mac...|SOLRYQR12A670215BF|ARNLO5S1187B9B80CC|                         2018|\n",
      "|2018-11-26 18:25:...|    92| free|      938|       Palestine, TX|Mozilla/5.0 (Maci...|SONQBUB12A6D4F8ED0|ARFCUN31187B9AD578|                         2018|\n",
      "+--------------------+------+-----+---------+--------------------+--------------------+------------------+------------------+-----------------------------+\n",
      "only showing top 4 rows\n",
      "\n"
     ]
    }
   ],
   "source": [
    "spark.sql(\"\"\"\n",
    "    SELECT timestamp as start_time, userId, level, sessionid, location, useragent, song_id, artist_id, year(timestamp)\n",
    "        FROM logs l JOIN (\n",
    "            SELECT s.song_id,s.title,a.artist_id,a.artist_name,s.duration \n",
    "            FROM songs s JOIN artists a ON s.artist_id = a.artist_id\n",
    "            ) sa ON trim(l.artist) = trim(sa.artist_name) and trim(l.song) = trim(sa.title) and l.length = sa.duration\n",
    "            WHERE l.page='NextSong'\n",
    "\n",
    "\"\"\").show(4)"
   ]
  },
  {
   "cell_type": "code",
   "execution_count": 55,
   "metadata": {},
   "outputs": [],
   "source": [
    "# extract columns from joined song and log datasets to create songplays table \n",
    "#songplay_id, start_time, user_id, level, session_id, location, user_agent, song_id, artist_id\n",
    "songplays_table = spark.sql(\"\"\"\n",
    "    SELECT all.*, t.year, t.month\n",
    "    FROM (\n",
    "        SELECT timestamp as start_time, userId, level, sessionid, location, useragent, song_id, artist_id\n",
    "        FROM logs l JOIN (\n",
    "            SELECT s.song_id,s.title,a.artist_id,a.artist_name,s.duration \n",
    "            FROM songs s JOIN artists a ON s.artist_id = a.artist_id\n",
    "            ) sa ON trim(l.artist) = trim(sa.artist_name) and trim(l.song) = trim(sa.title) and l.length = sa.duration\n",
    "            WHERE l.page='NextSong'\n",
    "        ) all JOIN times t ON all.start_time = t.start_time\n",
    "    ORDER BY start_time\n",
    "\"\"\")"
   ]
  },
  {
   "cell_type": "code",
   "execution_count": 59,
   "metadata": {},
   "outputs": [
    {
     "data": {
      "text/html": [
       "<div>\n",
       "<style scoped>\n",
       "    .dataframe tbody tr th:only-of-type {\n",
       "        vertical-align: middle;\n",
       "    }\n",
       "\n",
       "    .dataframe tbody tr th {\n",
       "        vertical-align: top;\n",
       "    }\n",
       "\n",
       "    .dataframe thead th {\n",
       "        text-align: right;\n",
       "    }\n",
       "</style>\n",
       "<table border=\"1\" class=\"dataframe\">\n",
       "  <thead>\n",
       "    <tr style=\"text-align: right;\">\n",
       "      <th></th>\n",
       "      <th>start_time</th>\n",
       "      <th>userId</th>\n",
       "      <th>level</th>\n",
       "      <th>sessionid</th>\n",
       "      <th>location</th>\n",
       "      <th>useragent</th>\n",
       "      <th>song_id</th>\n",
       "      <th>artist_id</th>\n",
       "      <th>year</th>\n",
       "      <th>month</th>\n",
       "      <th>songplay_id</th>\n",
       "    </tr>\n",
       "  </thead>\n",
       "  <tbody>\n",
       "    <tr>\n",
       "      <th>0</th>\n",
       "      <td>2018-11-03 21:14:28.796</td>\n",
       "      <td>49</td>\n",
       "      <td>free</td>\n",
       "      <td>195</td>\n",
       "      <td>San Francisco-Oakland-Hayward, CA</td>\n",
       "      <td>Mozilla/5.0 (Windows NT 5.1; rv:31.0) Gecko/20...</td>\n",
       "      <td>SOFVOQL12A6D4F7456</td>\n",
       "      <td>ARPN0Y61187B9ABAA0</td>\n",
       "      <td>2018</td>\n",
       "      <td>11</td>\n",
       "      <td>1</td>\n",
       "    </tr>\n",
       "    <tr>\n",
       "      <th>1</th>\n",
       "      <td>2018-11-05 17:49:42.796</td>\n",
       "      <td>73</td>\n",
       "      <td>paid</td>\n",
       "      <td>255</td>\n",
       "      <td>Tampa-St. Petersburg-Clearwater, FL</td>\n",
       "      <td>\"Mozilla/5.0 (Macintosh; Intel Mac OS X 10_9_4...</td>\n",
       "      <td>SOHDWWH12A6D4F7F6A</td>\n",
       "      <td>ARC0IOF1187FB3F6E6</td>\n",
       "      <td>2018</td>\n",
       "      <td>11</td>\n",
       "      <td>2</td>\n",
       "    </tr>\n",
       "    <tr>\n",
       "      <th>2</th>\n",
       "      <td>2018-11-08 15:01:57.796</td>\n",
       "      <td>29</td>\n",
       "      <td>paid</td>\n",
       "      <td>372</td>\n",
       "      <td>Atlanta-Sandy Springs-Roswell, GA</td>\n",
       "      <td>\"Mozilla/5.0 (Macintosh; Intel Mac OS X 10_9_4...</td>\n",
       "      <td>SOFVOQL12A6D4F7456</td>\n",
       "      <td>ARPN0Y61187B9ABAA0</td>\n",
       "      <td>2018</td>\n",
       "      <td>11</td>\n",
       "      <td>3</td>\n",
       "    </tr>\n",
       "    <tr>\n",
       "      <th>3</th>\n",
       "      <td>2018-11-09 17:55:00.796</td>\n",
       "      <td>80</td>\n",
       "      <td>paid</td>\n",
       "      <td>416</td>\n",
       "      <td>Portland-South Portland, ME</td>\n",
       "      <td>\"Mozilla/5.0 (Macintosh; Intel Mac OS X 10_9_4...</td>\n",
       "      <td>SOAOJYY12A58A7B2F9</td>\n",
       "      <td>ARFVYJI1187B9B8E13</td>\n",
       "      <td>2018</td>\n",
       "      <td>11</td>\n",
       "      <td>4</td>\n",
       "    </tr>\n",
       "    <tr>\n",
       "      <th>4</th>\n",
       "      <td>2018-11-09 19:57:57.796</td>\n",
       "      <td>36</td>\n",
       "      <td>paid</td>\n",
       "      <td>392</td>\n",
       "      <td>Janesville-Beloit, WI</td>\n",
       "      <td>\"Mozilla/5.0 (Windows NT 5.1) AppleWebKit/537....</td>\n",
       "      <td>SODWXQV12A6310F10D</td>\n",
       "      <td>AR6892W1187B9AC71B</td>\n",
       "      <td>2018</td>\n",
       "      <td>11</td>\n",
       "      <td>5</td>\n",
       "    </tr>\n",
       "    <tr>\n",
       "      <th>5</th>\n",
       "      <td>2018-11-11 15:00:37.796</td>\n",
       "      <td>67</td>\n",
       "      <td>free</td>\n",
       "      <td>414</td>\n",
       "      <td>Nashville-Davidson--Murfreesboro--Franklin, TN</td>\n",
       "      <td>\"Mozilla/5.0 (Macintosh; Intel Mac OS X 10_9_4...</td>\n",
       "      <td>SOCHRXB12A8AE48069</td>\n",
       "      <td>ARTDQRC1187FB4EFD4</td>\n",
       "      <td>2018</td>\n",
       "      <td>11</td>\n",
       "      <td>6</td>\n",
       "    </tr>\n",
       "    <tr>\n",
       "      <th>6</th>\n",
       "      <td>2018-11-13 22:39:39.796</td>\n",
       "      <td>55</td>\n",
       "      <td>free</td>\n",
       "      <td>415</td>\n",
       "      <td>Minneapolis-St. Paul-Bloomington, MN-WI</td>\n",
       "      <td>\"Mozilla/5.0 (Macintosh; Intel Mac OS X 10_9_4...</td>\n",
       "      <td>SOXQYSC12A6310E908</td>\n",
       "      <td>AR0L04E1187B9AE90C</td>\n",
       "      <td>2018</td>\n",
       "      <td>11</td>\n",
       "      <td>7</td>\n",
       "    </tr>\n",
       "    <tr>\n",
       "      <th>7</th>\n",
       "      <td>2018-11-16 14:21:12.796</td>\n",
       "      <td>85</td>\n",
       "      <td>paid</td>\n",
       "      <td>436</td>\n",
       "      <td>Red Bluff, CA</td>\n",
       "      <td>\"Mozilla/5.0 (Macintosh; Intel Mac OS X 10_10_...</td>\n",
       "      <td>SOLRYQR12A670215BF</td>\n",
       "      <td>ARNLO5S1187B9B80CC</td>\n",
       "      <td>2018</td>\n",
       "      <td>11</td>\n",
       "      <td>8</td>\n",
       "    </tr>\n",
       "    <tr>\n",
       "      <th>8</th>\n",
       "      <td>2018-11-20 17:46:38.796</td>\n",
       "      <td>49</td>\n",
       "      <td>paid</td>\n",
       "      <td>758</td>\n",
       "      <td>San Francisco-Oakland-Hayward, CA</td>\n",
       "      <td>Mozilla/5.0 (Windows NT 5.1; rv:31.0) Gecko/20...</td>\n",
       "      <td>SOCHRXB12A8AE48069</td>\n",
       "      <td>ARTDQRC1187FB4EFD4</td>\n",
       "      <td>2018</td>\n",
       "      <td>11</td>\n",
       "      <td>9</td>\n",
       "    </tr>\n",
       "    <tr>\n",
       "      <th>9</th>\n",
       "      <td>2018-11-21 21:56:47.796</td>\n",
       "      <td>15</td>\n",
       "      <td>paid</td>\n",
       "      <td>818</td>\n",
       "      <td>Chicago-Naperville-Elgin, IL-IN-WI</td>\n",
       "      <td>\"Mozilla/5.0 (X11; Linux x86_64) AppleWebKit/5...</td>\n",
       "      <td>SOZCTXZ12AB0182364</td>\n",
       "      <td>AR5KOSW1187FB35FF4</td>\n",
       "      <td>2018</td>\n",
       "      <td>11</td>\n",
       "      <td>10</td>\n",
       "    </tr>\n",
       "  </tbody>\n",
       "</table>\n",
       "</div>"
      ],
      "text/plain": [
       "               start_time userId level  sessionid  \\\n",
       "0 2018-11-03 21:14:28.796     49  free        195   \n",
       "1 2018-11-05 17:49:42.796     73  paid        255   \n",
       "2 2018-11-08 15:01:57.796     29  paid        372   \n",
       "3 2018-11-09 17:55:00.796     80  paid        416   \n",
       "4 2018-11-09 19:57:57.796     36  paid        392   \n",
       "5 2018-11-11 15:00:37.796     67  free        414   \n",
       "6 2018-11-13 22:39:39.796     55  free        415   \n",
       "7 2018-11-16 14:21:12.796     85  paid        436   \n",
       "8 2018-11-20 17:46:38.796     49  paid        758   \n",
       "9 2018-11-21 21:56:47.796     15  paid        818   \n",
       "\n",
       "                                         location  \\\n",
       "0               San Francisco-Oakland-Hayward, CA   \n",
       "1             Tampa-St. Petersburg-Clearwater, FL   \n",
       "2               Atlanta-Sandy Springs-Roswell, GA   \n",
       "3                     Portland-South Portland, ME   \n",
       "4                           Janesville-Beloit, WI   \n",
       "5  Nashville-Davidson--Murfreesboro--Franklin, TN   \n",
       "6         Minneapolis-St. Paul-Bloomington, MN-WI   \n",
       "7                                   Red Bluff, CA   \n",
       "8               San Francisco-Oakland-Hayward, CA   \n",
       "9              Chicago-Naperville-Elgin, IL-IN-WI   \n",
       "\n",
       "                                           useragent             song_id  \\\n",
       "0  Mozilla/5.0 (Windows NT 5.1; rv:31.0) Gecko/20...  SOFVOQL12A6D4F7456   \n",
       "1  \"Mozilla/5.0 (Macintosh; Intel Mac OS X 10_9_4...  SOHDWWH12A6D4F7F6A   \n",
       "2  \"Mozilla/5.0 (Macintosh; Intel Mac OS X 10_9_4...  SOFVOQL12A6D4F7456   \n",
       "3  \"Mozilla/5.0 (Macintosh; Intel Mac OS X 10_9_4...  SOAOJYY12A58A7B2F9   \n",
       "4  \"Mozilla/5.0 (Windows NT 5.1) AppleWebKit/537....  SODWXQV12A6310F10D   \n",
       "5  \"Mozilla/5.0 (Macintosh; Intel Mac OS X 10_9_4...  SOCHRXB12A8AE48069   \n",
       "6  \"Mozilla/5.0 (Macintosh; Intel Mac OS X 10_9_4...  SOXQYSC12A6310E908   \n",
       "7  \"Mozilla/5.0 (Macintosh; Intel Mac OS X 10_10_...  SOLRYQR12A670215BF   \n",
       "8  Mozilla/5.0 (Windows NT 5.1; rv:31.0) Gecko/20...  SOCHRXB12A8AE48069   \n",
       "9  \"Mozilla/5.0 (X11; Linux x86_64) AppleWebKit/5...  SOZCTXZ12AB0182364   \n",
       "\n",
       "            artist_id  year  month  songplay_id  \n",
       "0  ARPN0Y61187B9ABAA0  2018     11            1  \n",
       "1  ARC0IOF1187FB3F6E6  2018     11            2  \n",
       "2  ARPN0Y61187B9ABAA0  2018     11            3  \n",
       "3  ARFVYJI1187B9B8E13  2018     11            4  \n",
       "4  AR6892W1187B9AC71B  2018     11            5  \n",
       "5  ARTDQRC1187FB4EFD4  2018     11            6  \n",
       "6  AR0L04E1187B9AE90C  2018     11            7  \n",
       "7  ARNLO5S1187B9B80CC  2018     11            8  \n",
       "8  ARTDQRC1187FB4EFD4  2018     11            9  \n",
       "9  AR5KOSW1187FB35FF4  2018     11           10  "
      ]
     },
     "execution_count": 59,
     "metadata": {},
     "output_type": "execute_result"
    }
   ],
   "source": [
    "from pyspark.sql import Window\n",
    "from pyspark.sql import functions as F\n",
    "# add sequential ID, songplay_id\n",
    "window = Window.orderBy(col('start_time'))\n",
    "songplays_table = songplays_table.withColumn('songplay_id',row_number().over(window))\n",
    "songplays_table.limit(10).toPandas()"
   ]
  },
  {
   "cell_type": "code",
   "execution_count": 57,
   "metadata": {},
   "outputs": [],
   "source": [
    "# write songplays table to parquet files partitioned by year and month\n",
    "songplays_table.write.partitionBy('year','month').parquet('songplays2.parquet')"
   ]
  },
  {
   "cell_type": "code",
   "execution_count": null,
   "metadata": {},
   "outputs": [],
   "source": [
    "songs_table.write.partitionBy('year','artist_id').parquet('s3a://')"
   ]
  },
  {
   "cell_type": "code",
   "execution_count": null,
   "metadata": {},
   "outputs": [],
   "source": [
    "users_table.write.parquet('s3a://myudacity/project_dataLake/users.parquet')"
   ]
  }
 ],
 "metadata": {
  "kernelspec": {
   "display_name": "Python 3",
   "language": "python",
   "name": "python3"
  },
  "language_info": {
   "codemirror_mode": {
    "name": "ipython",
    "version": 3
   },
   "file_extension": ".py",
   "mimetype": "text/x-python",
   "name": "python",
   "nbconvert_exporter": "python",
   "pygments_lexer": "ipython3",
   "version": "3.8.5"
  }
 },
 "nbformat": 4,
 "nbformat_minor": 4
}
